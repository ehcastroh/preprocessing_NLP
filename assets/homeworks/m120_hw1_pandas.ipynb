{
 "cells": [
  {
   "cell_type": "markdown",
   "metadata": {},
   "source": [
    "<div align=\"center\">\n",
    "    <img src= \"/assets/content/datax_logos/DataX_blue_wide_logo.png\" align=\"center\" width=\"100%\">\n",
    "</div>\n",
    "\n",
    "### **HOMEWORK** 01 - **EXPLORATORY** DATA **ANALYSIS** USING **PANDAS**\n",
    "\n",
    "<br>\n",
    "\n",
    "<div align=\"center\" style=\"font-size:12px; font-family:FreeMono; font-weight: 100; font-stretch:ultra-condensed; line-height: 1.0; color:#2A2C2B\">\n",
    "    <img src=\"/assets/content/images/pandas_thumbnail1-01.png\" align=\"center\" width=\"40%\" padding=\"10\"><br>\n",
    "    <br>\n",
    "</div>\n",
    "\n",
    "<br>\n",
    "\n",
    "<br>\n",
    "\n",
    "In **m120_Intro_data_analysis_using_pandas** we covered how to create, access, and manipulate data using Pandas's DataFrames. This homework exercise will ask you to synthesize everything covered, and explore a new dataset. For additonal Pandas materials, make sure to visit the [**Data-X**](https://datax.berkeley.edu/) website.\n",
    "\n",
    "<br>\n",
    "\n",
    "**Author list:** [Priya Kamdar](www.linkedin.com/in/priya-kamdar) and [Elias Casto Hernandez](https://www.linkedin.com/in/ehcastroh/)\n",
    "\n",
    "**References and Additional Resources**\n",
    "<br>\n",
    "\n",
    "\n",
    "> * [Pandas User Guide](https://pandas.pydata.org/pandas-docs/stable/user_guide/index.html)\n",
    "\n",
    "> * [Pandas DataFrame by Real Python](https://realpython.com/pandas-dataframe/)\n",
    "\n",
    "> * [Pandas Basics by LearnPython.org](https://www.learnpython.org/en/Pandas_Basics)"
   ]
  },
  {
   "cell_type": "markdown",
   "metadata": {},
   "source": [
    "___\n",
    "\n",
    "#### NAME:\n",
    "\n",
    "#### STUDENT ID:"
   ]
  },
  {
   "cell_type": "markdown",
   "metadata": {},
   "source": [
    "<hr style=\"border: 2px solid#003262;\" />\n",
    "\n",
    "#### PART 1: READING DATA\n",
    "\n",
    "<div align=\"center\" style=\"font-size:12px; font-family:FreeMono; font-weight: 100; font-stretch:ultra-condensed; line-height: 1.0; color:#2A2C2B\">\n",
    "    <img src=\"/assets/content/images/pandas_logo.png\" align=\"center\" width=\"20%\" padding=\"0\"><br>\n",
    "    <br>\n",
    "</div>\n",
    "\n",
    "<br>\n",
    "\n",
    "**Note:** All of the data you will need for this homework assignment can be found inside of the assets folder ```/assets/data/```.  Keep this in mind as you will need to specify the path when reading/writing data -- e.g. ```pd.read_csv(assets/data/data3.csv)```  \n",
    "\n",
    "<br>"
   ]
  },
  {
   "cell_type": "code",
   "execution_count": 2,
   "metadata": {},
   "outputs": [],
   "source": [
    "# Load required modules\n",
    "import numpy as np\n",
    "import pandas as pd\n",
    "import matplotlib.pyplot as plt\n",
    "%matplotlib inline"
   ]
  },
  {
   "cell_type": "markdown",
   "metadata": {},
   "source": [
    "#### **Data description**\n",
    ">Data source: http://www.fao.org/nr/water/aquastat/data/query/index.html<br>\n",
    ">Data, units:<br>\n",
    ">* GDP, current USD (CPI adjusted)<br>\n",
    ">* NRI, mm/yr<br>\n",
    ">* Population density, inhab/km^2<br>\n",
    ">* Total area of the country, 1000 ha = 10km^2<br>\n",
    ">* Total Population, unit 1000 inhabitants<br>\n",
    "\n",
    "___"
   ]
  },
  {
   "cell_type": "markdown",
   "metadata": {},
   "source": [
    "<br>\n",
    "\n",
    "**1.1 Read the CSV file called** ```data3.csv``` **into a DataFrame and name it** ```df``` "
   ]
  },
  {
   "cell_type": "code",
   "execution_count": 3,
   "metadata": {},
   "outputs": [],
   "source": [
    "# your code here\n"
   ]
  },
  {
   "cell_type": "markdown",
   "metadata": {},
   "source": [
    "<br>\n",
    "\n",
    "**1.2 Display the first 10 rows of the dataframe.**"
   ]
  },
  {
   "cell_type": "code",
   "execution_count": 3,
   "metadata": {},
   "outputs": [],
   "source": [
    "# your code here\n"
   ]
  },
  {
   "cell_type": "markdown",
   "metadata": {},
   "source": [
    "<br>\n",
    "\n",
    "**1.3 Display the column names.**"
   ]
  },
  {
   "cell_type": "code",
   "execution_count": 4,
   "metadata": {},
   "outputs": [],
   "source": [
    "# your code here\n"
   ]
  },
  {
   "cell_type": "markdown",
   "metadata": {},
   "source": [
    "<br>\n",
    "\n",
    "**1.4 Use** ```.iloc``` **to display the first 3 rows and first 4 columns.**"
   ]
  },
  {
   "cell_type": "code",
   "execution_count": 5,
   "metadata": {},
   "outputs": [],
   "source": [
    "# your code here\n"
   ]
  },
  {
   "cell_type": "markdown",
   "metadata": {},
   "source": [
    "<hr style=\"border: 1px solid#003262;\" />\n",
    "\n",
    "#### PART 2: DATA PREPROCESSING\n"
   ]
  },
  {
   "cell_type": "markdown",
   "metadata": {},
   "source": [
    "<br>\n",
    "\n",
    "**2.1 Find all the rows that  have** ```NaN``` **in the 'Symbol' column. Display first 5 rows.**\n",
    "\n",
    "**Hint:** You might have to use a mask"
   ]
  },
  {
   "cell_type": "code",
   "execution_count": 7,
   "metadata": {},
   "outputs": [],
   "source": [
    "# your code here\n"
   ]
  },
  {
   "cell_type": "markdown",
   "metadata": {},
   "source": [
    "<br>\n",
    "\n",
    "**2.2 Remove all rows and columns that contain** ```NaN``` **values.**\n",
    "\n",
    "**Note:** Sometimes it is best to just discard any data that contains missing values. There are some workarounds, but for now we will try to get rid of the NaN valued rows and columns.  \n",
    "\n",
    "To do this, (1) drop the column 'Other' which only has 'NaN' values. Then, (2) drop all other rows that have any column with a value 'NaN'. Finally, (3) store the result in place and (4) display the last 5 rows of the dataframe."
   ]
  },
  {
   "cell_type": "code",
   "execution_count": 8,
   "metadata": {},
   "outputs": [],
   "source": [
    "# your code here\n"
   ]
  },
  {
   "cell_type": "markdown",
   "metadata": {},
   "source": [
    "<br>\n",
    "\n",
    "**2.3 Remove redundant/duplicate features/columns**\n",
    "\n",
    "**Note:** In the data set we are working with, you can manually explore the data to see which columns are duplicate. However, imagine this task when you have millions of entries. Pandas has builtin functionality that allows you to do this -- at the DataFrame and Series object level. Take a look at the following functions \n",
    ">[**.drop_duplicates( )**](https://pandas.pydata.org/pandas-docs/stable/user_guide/indexing.html#duplicate-data)<br>\n",
    ">[**.duplicated( )**](https://pandas.pydata.org/pandas-docs/stable/reference/api/pandas.DataFrame.duplicated.html?highlight=duplicate%20columns)<br>\n",
    ">[**.equals( )**](https://www.w3resource.com/pandas/series/series-equals.php)<br>\n",
    ">[**.where( )**](https://pandas.pydata.org/pandas-docs/stable/reference/api/pandas.DataFrame.where.html)\n",
    "\n",
    "See if you can figure out how to solve this problem using one of the above methods. Otherwise, use the materials from the **m120_intro_data_analysis_using_pandas** and drop the following columns: **Area Id, Variable Id, Symbol**.  Finally, save the new DataFrame as ```df1```, then display the first 5 rows of the new dataframe."
   ]
  },
  {
   "cell_type": "code",
   "execution_count": 9,
   "metadata": {},
   "outputs": [],
   "source": [
    "# your code here\n"
   ]
  },
  {
   "cell_type": "markdown",
   "metadata": {},
   "source": [
    "<br>\n",
    "\n",
    "**2.4 Remove redundant/duplicate rows/entries**\n",
    "\n",
    "If you took the time to explore the above builtin functions, you have noticed that you can specify how you want the check to occur -- accross columns, or accross rows. Use what you learned in **2.3** and apply it to removing duplicate rows."
   ]
  },
  {
   "cell_type": "code",
   "execution_count": null,
   "metadata": {},
   "outputs": [],
   "source": [
    "# your code here"
   ]
  },
  {
   "cell_type": "markdown",
   "metadata": {},
   "source": [
    "<br>\n",
    "\n",
    "**2.4 Display all the unique values in your new dataframe for each of the columns: Area, Variable Name, Year.**"
   ]
  },
  {
   "cell_type": "code",
   "execution_count": 10,
   "metadata": {},
   "outputs": [],
   "source": [
    "# your code here\n"
   ]
  },
  {
   "cell_type": "markdown",
   "metadata": {},
   "source": [
    "<br>\n",
    "\n",
    "**2.5 Convert data to datetime objects**\n",
    "\n",
    "Convert the *'Year'* column float values to pandas [**datetime**](https://pandas.pydata.org/pandas-docs/stable/user_guide/timeseries.html) objects, where each year is represented as the first day of that calendar year -- e.g. ```1962.0``` will be represented as ```1962-01-01```. Finally, display the first 5 rows of the dataframe "
   ]
  },
  {
   "cell_type": "code",
   "execution_count": 11,
   "metadata": {},
   "outputs": [],
   "source": [
    "# your code here\n"
   ]
  },
  {
   "cell_type": "markdown",
   "metadata": {},
   "source": [
    "<hr style=\"border: 1px solid#003262;\" />\n",
    "\n",
    "#### PART 3: EXPLORATORY DATA ANALYSIS (EDA) - DATA VISUALIZATION"
   ]
  },
  {
   "cell_type": "markdown",
   "metadata": {},
   "source": [
    "<br>\n",
    "\n",
    "**3.1 Plot a bar graph showing the count for each unique value in the column 'Area'. Give it a title.**"
   ]
  },
  {
   "cell_type": "code",
   "execution_count": 12,
   "metadata": {},
   "outputs": [],
   "source": [
    "# your code here\n"
   ]
  },
  {
   "cell_type": "markdown",
   "metadata": {},
   "source": [
    "<hr style=\"border: 1px solid#003262;\" />\n",
    "\n",
    "#### PART 4: EXPLORATORY DATA ANALYSIS (EDA) - STATISTICAL ANALYSIS  "
   ]
  },
  {
   "cell_type": "markdown",
   "metadata": {},
   "source": [
    "<br>\n",
    "\n",
    "**4.1  Create a DataFrame** ```dftemp``` **to store rows where area is** ```Iceland```, **then display the DataFrame.**"
   ]
  },
  {
   "cell_type": "code",
   "execution_count": 13,
   "metadata": {},
   "outputs": [],
   "source": [
    "# your code here\n"
   ]
  },
  {
   "cell_type": "markdown",
   "metadata": {},
   "source": [
    "<br>\n",
    "\n",
    "**4.2 Filter data within a range**\n",
    "\n",
    "**To Do:** Using the previously created DataFrame, ```dftemp```, print the years (with the same format as 2.5) when the National Rainfall Index (NRI) was greater than 900 and less than 950 in Iceland. \n",
    "\n"
   ]
  },
  {
   "cell_type": "code",
   "execution_count": 14,
   "metadata": {},
   "outputs": [],
   "source": [
    "# your code here\n"
   ]
  },
  {
   "cell_type": "markdown",
   "metadata": {},
   "source": [
    "<br>\n",
    "\n",
    "**4.3 Create subset of data**\n",
    "\n",
    "\n",
    "**To Do:** Create a new DataFrame called ```df_usa``` that only contains values where *'Area'* is equal to *'United States of America'*. Set the indices to be the *'Year'* column   (Use ```.set_index( )```, with the inplace paratmeter set to ```inplace=True```). Display the dataframe head."
   ]
  },
  {
   "cell_type": "code",
   "execution_count": 15,
   "metadata": {},
   "outputs": [],
   "source": [
    "# your code here\n"
   ]
  },
  {
   "cell_type": "markdown",
   "metadata": {},
   "source": [
    "<br>\n",
    "\n",
    "**4.4 [Stack](https://pandas.pydata.org/pandas-docs/stable/reference/api/pandas.DataFrame.stack.html?highlight=stack%20unstack) and [Unstack](https://pandas.pydata.org/pandas-docs/stable/reference/api/pandas.DataFrame.unstack.html?highlight=stack%20unstack) DataFrame**\n",
    "\n",
    "**To Do:** Pivot the DataFrame so that the unique values in the column *'Variable Name'* becomes the columns. The DataFrame values should be the ones in the the *'Value'* column. Save it in ```df_usa```. Display the dataframe head."
   ]
  },
  {
   "cell_type": "code",
   "execution_count": 16,
   "metadata": {},
   "outputs": [],
   "source": [
    "# your code here\n"
   ]
  },
  {
   "cell_type": "markdown",
   "metadata": {},
   "source": [
    "<br>\n",
    "\n",
    "**4.5 Rename Features**\n",
    "\n",
    "**To Do:** Rename the new columns as ```['GDP','NRI','PD','Area','Population']``` and display the head."
   ]
  },
  {
   "cell_type": "code",
   "execution_count": 17,
   "metadata": {},
   "outputs": [],
   "source": [
    "# your code here\n"
   ]
  },
  {
   "cell_type": "markdown",
   "metadata": {},
   "source": [
    "**4.6 Replace Missing Data**\n",
    "\n",
    "**To Do:** Replace all *'Nan'* values in** ```df_usa``` with ```0```. Display the head of the dataframe."
   ]
  },
  {
   "cell_type": "code",
   "execution_count": 18,
   "metadata": {},
   "outputs": [],
   "source": [
    "# your code here\n"
   ]
  },
  {
   "cell_type": "markdown",
   "metadata": {},
   "source": [
    "<br>\n",
    "\n",
    "**4.7 Scale Data**\n",
    "\n",
    "**To Do:** Multiply the *'Area'* column for all rows by ```10``` (so instead of 1000 ha, the unit becomes 100 ha = 1km^2). Display the dataframe head."
   ]
  },
  {
   "cell_type": "code",
   "execution_count": 18,
   "metadata": {},
   "outputs": [],
   "source": [
    "# your code here\n"
   ]
  },
  {
   "cell_type": "markdown",
   "metadata": {},
   "source": [
    "<br>\n",
    "\n",
    "**4.8  Feature Engineering**\n",
    "\n",
    "**To Do:** Create a new column in ```df_usa``` called *'GDP/capita'* and populate it with the calculated GDP per capita. Round the results to two decimal points. Display the dataframe head.\n",
    "\n",
    "<br>\n",
    "\n",
    "$$GDP~per~capita = \\frac{GDP}{Population} * 1000$$\n",
    "\n",
    "<br>"
   ]
  },
  {
   "cell_type": "code",
   "execution_count": 19,
   "metadata": {},
   "outputs": [],
   "source": [
    "# your code here\n"
   ]
  },
  {
   "cell_type": "markdown",
   "metadata": {},
   "source": [
    "<br>\n",
    "\n",
    "**4.9 Data Extraction**\n",
    "\n",
    "**To Do:** Find the maximum value of the *'NRI'* column in the US (using pandas methods). What year does the max value occur? Display the values."
   ]
  },
  {
   "cell_type": "code",
   "execution_count": 20,
   "metadata": {},
   "outputs": [],
   "source": [
    "# your code here\n"
   ]
  },
  {
   "cell_type": "markdown",
   "metadata": {},
   "source": [
    "### Congratulations on completing hw 1.2! Don't forget to click Kernel -> Restart & Run All, save your file, download or print as pdf, and submit pdf to Gradescope.\n",
    "\n",
    "<br>\n",
    "\n",
    "<hr style=\"border: 2px solid#003262;\" />\n",
    "\n",
    "### **DELIVERABLES**\n",
    "\n",
    "Please submit the following via [**Gradescope**](https://www.gradescope.com/login): \n",
    "\n",
    ">(1) A copy of your work, either a downloaded notebook or a pdf, by the assignment deadline\n",
    "\n",
    "<br>\n",
    "\n",
    "**Note:** Don't gorget to restart your kernel prior to extracting your data.\n",
    "\n",
    ">```Kernel --> Restart Kernel and Run all Cells```<br>\n",
    ">```File --> Export Notebooks As --> PDF``` (or as instructed)\n",
    "\n",
    "\n",
    "<hr style=\"border: 2px solid#003262;\" />"
   ]
  }
 ],
 "metadata": {
  "anaconda-cloud": {},
  "kernelspec": {
   "display_name": "Python 3",
   "language": "python",
   "name": "python3"
  },
  "language_info": {
   "codemirror_mode": {
    "name": "ipython",
    "version": 3
   },
   "file_extension": ".py",
   "mimetype": "text/x-python",
   "name": "python",
   "nbconvert_exporter": "python",
   "pygments_lexer": "ipython3",
   "version": "3.6.10"
  }
 },
 "nbformat": 4,
 "nbformat_minor": 2
}
